{
 "cells": [
  {
   "cell_type": "code",
   "execution_count": 1,
   "metadata": {},
   "outputs": [],
   "source": [
    "import pandas as pd\n",
    "import numpy as np"
   ]
  },
  {
   "cell_type": "code",
   "execution_count": 4,
   "metadata": {},
   "outputs": [
    {
     "data": {
      "text/html": [
       "<div>\n",
       "<style scoped>\n",
       "    .dataframe tbody tr th:only-of-type {\n",
       "        vertical-align: middle;\n",
       "    }\n",
       "\n",
       "    .dataframe tbody tr th {\n",
       "        vertical-align: top;\n",
       "    }\n",
       "\n",
       "    .dataframe thead th {\n",
       "        text-align: right;\n",
       "    }\n",
       "</style>\n",
       "<table border=\"1\" class=\"dataframe\">\n",
       "  <thead>\n",
       "    <tr style=\"text-align: right;\">\n",
       "      <th></th>\n",
       "      <th>标题</th>\n",
       "      <th>价格</th>\n",
       "      <th>付款人数</th>\n",
       "      <th>店铺</th>\n",
       "      <th>发货地址</th>\n",
       "    </tr>\n",
       "  </thead>\n",
       "  <tbody>\n",
       "    <tr>\n",
       "      <th>0</th>\n",
       "      <td>五芳斋粽子礼盒 心悦+18只装咸鸭蛋组合端午节礼品团购嘉兴肉粽子</td>\n",
       "      <td>129</td>\n",
       "      <td>6人付款</td>\n",
       "      <td>五芳斋官方旗舰店</td>\n",
       "      <td>浙江 嘉兴</td>\n",
       "    </tr>\n",
       "    <tr>\n",
       "      <th>1</th>\n",
       "      <td>北京稻香村端午粽子手工豆沙粽220g*2袋散装豆沙粽香甜软糯豆沙粽</td>\n",
       "      <td>44</td>\n",
       "      <td>8人付款</td>\n",
       "      <td>天猫超市</td>\n",
       "      <td>上海</td>\n",
       "    </tr>\n",
       "    <tr>\n",
       "      <th>2</th>\n",
       "      <td>五芳斋粽子礼盒装鲜肉咸蛋黄大肉粽嘉兴豆沙甜粽端午团购散装礼品</td>\n",
       "      <td>89.9</td>\n",
       "      <td>100万+人付款</td>\n",
       "      <td>五芳斋官方旗舰店</td>\n",
       "      <td>浙江 嘉兴</td>\n",
       "    </tr>\n",
       "    <tr>\n",
       "      <th>3</th>\n",
       "      <td>稻香私房鲜肉粽蛋黄肉粽嘉兴粽子咸鸭蛋礼盒装端午节送礼特产团购</td>\n",
       "      <td>138</td>\n",
       "      <td>1936人付款</td>\n",
       "      <td>稻香村食品旗舰店</td>\n",
       "      <td>北京</td>\n",
       "    </tr>\n",
       "    <tr>\n",
       "      <th>4</th>\n",
       "      <td>嘉兴粽子 蛋黄鲜肉粽新鲜大肉粽早餐散装团购浙江特产蜜枣多口味</td>\n",
       "      <td>3.8</td>\n",
       "      <td>9500+人付款</td>\n",
       "      <td>城城喂食猫</td>\n",
       "      <td>浙江 嘉兴</td>\n",
       "    </tr>\n",
       "  </tbody>\n",
       "</table>\n",
       "</div>"
      ],
      "text/plain": [
       "                                  标题    价格      付款人数        店铺  发货地址 \n",
       "0   五芳斋粽子礼盒 心悦+18只装咸鸭蛋组合端午节礼品团购嘉兴肉粽子   129      6人付款  五芳斋官方旗舰店  浙江 嘉兴\n",
       "1  北京稻香村端午粽子手工豆沙粽220g*2袋散装豆沙粽香甜软糯豆沙粽    44      8人付款      天猫超市     上海\n",
       "2     五芳斋粽子礼盒装鲜肉咸蛋黄大肉粽嘉兴豆沙甜粽端午团购散装礼品  89.9  100万+人付款  五芳斋官方旗舰店  浙江 嘉兴\n",
       "3     稻香私房鲜肉粽蛋黄肉粽嘉兴粽子咸鸭蛋礼盒装端午节送礼特产团购   138   1936人付款  稻香村食品旗舰店     北京\n",
       "4     嘉兴粽子 蛋黄鲜肉粽新鲜大肉粽早餐散装团购浙江特产蜜枣多口味   3.8  9500+人付款     城城喂食猫  浙江 嘉兴"
      ]
     },
     "execution_count": 4,
     "metadata": {},
     "output_type": "execute_result"
    }
   ],
   "source": [
    "df = pd.read_csv('端午粽子数据.csv')\n",
    "df.head()"
   ]
  },
  {
   "cell_type": "code",
   "execution_count": 6,
   "metadata": {},
   "outputs": [
    {
     "name": "stdout",
     "output_type": "stream",
     "text": [
      "<class 'pandas.core.frame.DataFrame'>\n",
      "RangeIndex: 4403 entries, 0 to 4402\n",
      "Data columns (total 5 columns):\n",
      " #   Column  Non-Null Count  Dtype \n",
      "---  ------  --------------  ----- \n",
      " 0   标题      4403 non-null   object\n",
      " 1   价格      4403 non-null   object\n",
      " 2   付款人数    4332 non-null   object\n",
      " 3   店铺      4403 non-null   object\n",
      " 4   发货地址    4400 non-null   object\n",
      "dtypes: object(5)\n",
      "memory usage: 172.1+ KB\n"
     ]
    }
   ],
   "source": [
    "df.info()"
   ]
  },
  {
   "cell_type": "code",
   "execution_count": 7,
   "metadata": {},
   "outputs": [
    {
     "data": {
      "text/plain": [
       "Index(['标题', '价格', '付款人数', '店铺', '发货地址'], dtype='object')"
      ]
     },
     "execution_count": 7,
     "metadata": {},
     "output_type": "execute_result"
    }
   ],
   "source": [
    "df.columns=[col.strip() for col in df.columns]\n",
    "df.columns"
   ]
  },
  {
   "cell_type": "markdown",
   "metadata": {},
   "source": [
    "### 请删除最后一列为缺失值的行，并求所有在杭州发货的商品单价均值。"
   ]
  },
  {
   "cell_type": "code",
   "execution_count": 9,
   "metadata": {},
   "outputs": [
    {
     "data": {
      "text/plain": [
       "0    True\n",
       "1    True\n",
       "2    True\n",
       "3    True\n",
       "4    True\n",
       "Name: 发货地址, dtype: bool"
      ]
     },
     "execution_count": 9,
     "metadata": {},
     "output_type": "execute_result"
    }
   ],
   "source": [
    "df['发货地址'].notnull().head()"
   ]
  },
  {
   "cell_type": "code",
   "execution_count": 11,
   "metadata": {},
   "outputs": [
    {
     "data": {
      "text/html": [
       "<div>\n",
       "<style scoped>\n",
       "    .dataframe tbody tr th:only-of-type {\n",
       "        vertical-align: middle;\n",
       "    }\n",
       "\n",
       "    .dataframe tbody tr th {\n",
       "        vertical-align: top;\n",
       "    }\n",
       "\n",
       "    .dataframe thead th {\n",
       "        text-align: right;\n",
       "    }\n",
       "</style>\n",
       "<table border=\"1\" class=\"dataframe\">\n",
       "  <thead>\n",
       "    <tr style=\"text-align: right;\">\n",
       "      <th></th>\n",
       "      <th>标题</th>\n",
       "      <th>价格</th>\n",
       "      <th>付款人数</th>\n",
       "      <th>店铺</th>\n",
       "      <th>发货地址</th>\n",
       "    </tr>\n",
       "  </thead>\n",
       "  <tbody>\n",
       "    <tr>\n",
       "      <th>0</th>\n",
       "      <td>五芳斋粽子礼盒 心悦+18只装咸鸭蛋组合端午节礼品团购嘉兴肉粽子</td>\n",
       "      <td>129</td>\n",
       "      <td>6人付款</td>\n",
       "      <td>五芳斋官方旗舰店</td>\n",
       "      <td>浙江 嘉兴</td>\n",
       "    </tr>\n",
       "    <tr>\n",
       "      <th>1</th>\n",
       "      <td>北京稻香村端午粽子手工豆沙粽220g*2袋散装豆沙粽香甜软糯豆沙粽</td>\n",
       "      <td>44</td>\n",
       "      <td>8人付款</td>\n",
       "      <td>天猫超市</td>\n",
       "      <td>上海</td>\n",
       "    </tr>\n",
       "    <tr>\n",
       "      <th>2</th>\n",
       "      <td>五芳斋粽子礼盒装鲜肉咸蛋黄大肉粽嘉兴豆沙甜粽端午团购散装礼品</td>\n",
       "      <td>89.9</td>\n",
       "      <td>100万+人付款</td>\n",
       "      <td>五芳斋官方旗舰店</td>\n",
       "      <td>浙江 嘉兴</td>\n",
       "    </tr>\n",
       "    <tr>\n",
       "      <th>3</th>\n",
       "      <td>稻香私房鲜肉粽蛋黄肉粽嘉兴粽子咸鸭蛋礼盒装端午节送礼特产团购</td>\n",
       "      <td>138</td>\n",
       "      <td>1936人付款</td>\n",
       "      <td>稻香村食品旗舰店</td>\n",
       "      <td>北京</td>\n",
       "    </tr>\n",
       "    <tr>\n",
       "      <th>4</th>\n",
       "      <td>嘉兴粽子 蛋黄鲜肉粽新鲜大肉粽早餐散装团购浙江特产蜜枣多口味</td>\n",
       "      <td>3.8</td>\n",
       "      <td>9500+人付款</td>\n",
       "      <td>城城喂食猫</td>\n",
       "      <td>浙江 嘉兴</td>\n",
       "    </tr>\n",
       "  </tbody>\n",
       "</table>\n",
       "</div>"
      ],
      "text/plain": [
       "                                  标题    价格      付款人数        店铺   发货地址\n",
       "0   五芳斋粽子礼盒 心悦+18只装咸鸭蛋组合端午节礼品团购嘉兴肉粽子   129      6人付款  五芳斋官方旗舰店  浙江 嘉兴\n",
       "1  北京稻香村端午粽子手工豆沙粽220g*2袋散装豆沙粽香甜软糯豆沙粽    44      8人付款      天猫超市     上海\n",
       "2     五芳斋粽子礼盒装鲜肉咸蛋黄大肉粽嘉兴豆沙甜粽端午团购散装礼品  89.9  100万+人付款  五芳斋官方旗舰店  浙江 嘉兴\n",
       "3     稻香私房鲜肉粽蛋黄肉粽嘉兴粽子咸鸭蛋礼盒装端午节送礼特产团购   138   1936人付款  稻香村食品旗舰店     北京\n",
       "4     嘉兴粽子 蛋黄鲜肉粽新鲜大肉粽早餐散装团购浙江特产蜜枣多口味   3.8  9500+人付款     城城喂食猫  浙江 嘉兴"
      ]
     },
     "execution_count": 11,
     "metadata": {},
     "output_type": "execute_result"
    }
   ],
   "source": [
    "temp = df[df['发货地址'].notnull()]\n",
    "temp.head()"
   ]
  },
  {
   "cell_type": "code",
   "execution_count": 12,
   "metadata": {},
   "outputs": [
    {
     "data": {
      "text/html": [
       "<div>\n",
       "<style scoped>\n",
       "    .dataframe tbody tr th:only-of-type {\n",
       "        vertical-align: middle;\n",
       "    }\n",
       "\n",
       "    .dataframe tbody tr th {\n",
       "        vertical-align: top;\n",
       "    }\n",
       "\n",
       "    .dataframe thead th {\n",
       "        text-align: right;\n",
       "    }\n",
       "</style>\n",
       "<table border=\"1\" class=\"dataframe\">\n",
       "  <thead>\n",
       "    <tr style=\"text-align: right;\">\n",
       "      <th></th>\n",
       "      <th>标题</th>\n",
       "      <th>价格</th>\n",
       "      <th>付款人数</th>\n",
       "      <th>店铺</th>\n",
       "      <th>发货地址</th>\n",
       "    </tr>\n",
       "  </thead>\n",
       "  <tbody>\n",
       "    <tr>\n",
       "      <th>15</th>\n",
       "      <td>【百草味-经典龙腾粽1460g】蛋黄肉甜粽子特产嘉兴粽端午整箱礼盒</td>\n",
       "      <td>78</td>\n",
       "      <td>2372人付款</td>\n",
       "      <td>百草味旗舰店</td>\n",
       "      <td>浙江 杭州</td>\n",
       "    </tr>\n",
       "    <tr>\n",
       "      <th>26</th>\n",
       "      <td>知味观端午节粽子甜粽咸蛋黄大肉粽礼盒装嘉兴味鲜肉粽子散装团购</td>\n",
       "      <td>64.9</td>\n",
       "      <td>8.5万+人付款</td>\n",
       "      <td>知味观官方旗舰店</td>\n",
       "      <td>浙江 杭州</td>\n",
       "    </tr>\n",
       "    <tr>\n",
       "      <th>53</th>\n",
       "      <td>知味观龙飞粽舞端午节粽子礼盒装礼品嘉兴口味鲜肉粽子绿豆糕团购</td>\n",
       "      <td>88</td>\n",
       "      <td>1355人付款</td>\n",
       "      <td>知味观官方旗舰店</td>\n",
       "      <td>浙江 杭州</td>\n",
       "    </tr>\n",
       "    <tr>\n",
       "      <th>71</th>\n",
       "      <td>知味观风俗志端午节粽子礼盒装送礼蛋黄鲜肉粽甜粽绿豆糕礼品团购</td>\n",
       "      <td>158</td>\n",
       "      <td>1333人付款</td>\n",
       "      <td>知味观官方旗舰店</td>\n",
       "      <td>浙江 杭州</td>\n",
       "    </tr>\n",
       "    <tr>\n",
       "      <th>89</th>\n",
       "      <td>知味观粽子新鲜大肉粽手工嘉兴口味鲜肉粽子懒人食品散装早餐速食</td>\n",
       "      <td>52.9</td>\n",
       "      <td>7500+人付款</td>\n",
       "      <td>知味观官方旗舰店</td>\n",
       "      <td>浙江 杭州</td>\n",
       "    </tr>\n",
       "  </tbody>\n",
       "</table>\n",
       "</div>"
      ],
      "text/plain": [
       "                                   标题    价格      付款人数        店铺   发货地址\n",
       "15  【百草味-经典龙腾粽1460g】蛋黄肉甜粽子特产嘉兴粽端午整箱礼盒    78   2372人付款    百草味旗舰店  浙江 杭州\n",
       "26     知味观端午节粽子甜粽咸蛋黄大肉粽礼盒装嘉兴味鲜肉粽子散装团购  64.9  8.5万+人付款  知味观官方旗舰店  浙江 杭州\n",
       "53     知味观龙飞粽舞端午节粽子礼盒装礼品嘉兴口味鲜肉粽子绿豆糕团购    88   1355人付款  知味观官方旗舰店  浙江 杭州\n",
       "71     知味观风俗志端午节粽子礼盒装送礼蛋黄鲜肉粽甜粽绿豆糕礼品团购   158   1333人付款  知味观官方旗舰店  浙江 杭州\n",
       "89     知味观粽子新鲜大肉粽手工嘉兴口味鲜肉粽子懒人食品散装早餐速食  52.9  7500+人付款  知味观官方旗舰店  浙江 杭州"
      ]
     },
     "execution_count": 12,
     "metadata": {},
     "output_type": "execute_result"
    }
   ],
   "source": [
    "temp = df[df['发货地址']=='浙江 杭州']\n",
    "temp.head()"
   ]
  },
  {
   "cell_type": "code",
   "execution_count": 14,
   "metadata": {},
   "outputs": [
    {
     "data": {
      "text/plain": [
       "dtype('O')"
      ]
     },
     "execution_count": 14,
     "metadata": {},
     "output_type": "execute_result"
    }
   ],
   "source": [
    "df['价格'].dtype"
   ]
  },
  {
   "cell_type": "code",
   "execution_count": 16,
   "metadata": {},
   "outputs": [
    {
     "data": {
      "text/plain": [
       "'7864.98815852.938.959.944.91589869.813226039.959.959.911826839.99813274.97821.91181089410943.936120.5216515843.91859.926.936.839.949.96845.944.97846.946.915.925813959.94083588.929.92553659.925034.2151.936.979.936.9691315.0929.918.513.640.93418821.917.534.920.811.873349.98.824.9131015859.924919.911028959.969.912849.939.95922.539.954.93720951745.93612.825049.969.969.925314942.95639.99.911812818.529.9836.2669.915817925.945.912.88478.88942.954.81281321645.910.51089915.94134.48836.810242.81486.429.939.934984936.8395959.94998124228439422.814.912.829.984425158913414.418922012841.879.910911.9945_82'"
      ]
     },
     "execution_count": 16,
     "metadata": {},
     "output_type": "execute_result"
    }
   ],
   "source": [
    "temp['价格'].sum() #出错"
   ]
  },
  {
   "cell_type": "code",
   "execution_count": 36,
   "metadata": {},
   "outputs": [
    {
     "data": {
      "text/html": [
       "<div>\n",
       "<style scoped>\n",
       "    .dataframe tbody tr th:only-of-type {\n",
       "        vertical-align: middle;\n",
       "    }\n",
       "\n",
       "    .dataframe tbody tr th {\n",
       "        vertical-align: top;\n",
       "    }\n",
       "\n",
       "    .dataframe thead th {\n",
       "        text-align: right;\n",
       "    }\n",
       "</style>\n",
       "<table border=\"1\" class=\"dataframe\">\n",
       "  <thead>\n",
       "    <tr style=\"text-align: right;\">\n",
       "      <th></th>\n",
       "      <th>标题</th>\n",
       "      <th>价格</th>\n",
       "      <th>付款人数</th>\n",
       "      <th>店铺</th>\n",
       "      <th>发货地址</th>\n",
       "    </tr>\n",
       "  </thead>\n",
       "  <tbody>\n",
       "    <tr>\n",
       "      <th>4376</th>\n",
       "      <td>东方贺礼端午节礼盒嘉兴粽子高汤蛋黄鲜大肉粽特产现已支持定制</td>\n",
       "      <td>45_</td>\n",
       "      <td>17人付款</td>\n",
       "      <td>缘来有礼</td>\n",
       "      <td>浙江 杭州</td>\n",
       "    </tr>\n",
       "  </tbody>\n",
       "</table>\n",
       "</div>"
      ],
      "text/plain": [
       "                                 标题   价格   付款人数    店铺   发货地址\n",
       "4376  东方贺礼端午节礼盒嘉兴粽子高汤蛋黄鲜大肉粽特产现已支持定制  45_  17人付款  缘来有礼  浙江 杭州"
      ]
     },
     "execution_count": 36,
     "metadata": {},
     "output_type": "execute_result"
    }
   ],
   "source": [
    "temp[~temp['价格'].str.contains(r'\\d$')]"
   ]
  },
  {
   "cell_type": "code",
   "execution_count": 37,
   "metadata": {},
   "outputs": [
    {
     "data": {
      "text/plain": [
       "80.90088888888877"
      ]
     },
     "execution_count": 37,
     "metadata": {},
     "output_type": "execute_result"
    }
   ],
   "source": [
    "temp['价格'].str.replace('_','').astype('float').mean()"
   ]
  },
  {
   "cell_type": "markdown",
   "metadata": {},
   "source": [
    "### 商品标题带有“嘉兴”但发货地却不在嘉兴的商品有多少条记录?"
   ]
  },
  {
   "cell_type": "code",
   "execution_count": 50,
   "metadata": {},
   "outputs": [
    {
     "name": "stdout",
     "output_type": "stream",
     "text": [
      "<class 'pandas.core.frame.DataFrame'>\n",
      "Int64Index: 1032 entries, 3 to 4401\n",
      "Data columns (total 5 columns):\n",
      " #   Column  Non-Null Count  Dtype \n",
      "---  ------  --------------  ----- \n",
      " 0   标题      1032 non-null   object\n",
      " 1   价格      1032 non-null   object\n",
      " 2   付款人数    984 non-null    object\n",
      " 3   店铺      1032 non-null   object\n",
      " 4   发货地址    1032 non-null   object\n",
      "dtypes: object(5)\n",
      "memory usage: 48.4+ KB\n"
     ]
    },
    {
     "name": "stderr",
     "output_type": "stream",
     "text": [
      "/Users/sunchenxi/anaconda3/lib/python3.7/site-packages/ipykernel_launcher.py:1: UserWarning: Boolean Series key will be reindexed to match DataFrame index.\n",
      "  \"\"\"Entry point for launching an IPython kernel.\n"
     ]
    }
   ],
   "source": [
    "temp = df[df['标题'].str.contains('嘉兴')][(df['发货地址'].str.contains('嘉兴'))==False]\n",
    "temp.info()\n",
    "# 1032条记录"
   ]
  },
  {
   "cell_type": "code",
   "execution_count": null,
   "metadata": {},
   "outputs": [],
   "source": []
  }
 ],
 "metadata": {
  "kernelspec": {
   "display_name": "Python 3",
   "language": "python",
   "name": "python3"
  },
  "language_info": {
   "codemirror_mode": {
    "name": "ipython",
    "version": 3
   },
   "file_extension": ".py",
   "mimetype": "text/x-python",
   "name": "python",
   "nbconvert_exporter": "python",
   "pygments_lexer": "ipython3",
   "version": "3.7.3"
  }
 },
 "nbformat": 4,
 "nbformat_minor": 2
}
