{
 "cells": [
  {
   "cell_type": "markdown",
   "metadata": {},
   "source": [
    "# 第九章 时间序列"
   ]
  },
  {
   "cell_type": "code",
   "execution_count": 1,
   "metadata": {},
   "outputs": [],
   "source": [
    "import pandas as pd\n",
    "import numpy as np"
   ]
  },
  {
   "cell_type": "markdown",
   "metadata": {},
   "source": [
    "## 一、时序的创建\n",
    "### 1.四类时间变量\n",
    "#### 1)Date times（时间点/时刻） 描述特定日期或时间点  Timestamp  to_datetime或date_range\n",
    "#### 2)Time spans（时间段/时期） 由时间点定义的一段时期  Period  Period或period_range\n",
    "#### 3) Date offsets（相对时间差） 一段时间的相对大小（与夏/冬令时无关） DateOffset  DateOffset\n",
    "#### 4) Time deltas (绝对时间差)  一段时间的绝对大小（与夏/冬令时有关） Timedelta  to_timedelta或timedelta_range\n"
   ]
  },
  {
   "cell_type": "markdown",
   "metadata": {},
   "source": [
    "### 2.时间点的创建\n",
    "#### a）to_datetime方法\n",
    "#### Pandas在时间点建立的输入格式规定上给了很大的自由度，下面的语句都能正确建立同一时间点"
   ]
  },
  {
   "cell_type": "code",
   "execution_count": 2,
   "metadata": {},
   "outputs": [
    {
     "data": {
      "text/plain": [
       "Timestamp('2020-01-01 00:00:00')"
      ]
     },
     "execution_count": 2,
     "metadata": {},
     "output_type": "execute_result"
    }
   ],
   "source": [
    "pd.to_datetime('2020.1.1')\n",
    "pd.to_datetime('2020 1.1')\n",
    "pd.to_datetime('2020 1 1')\n",
    "pd.to_datetime('2020 1-1')\n",
    "pd.to_datetime('2020-1 1')\n",
    "pd.to_datetime('2020-1-1')\n",
    "pd.to_datetime('2020/1/1')\n",
    "pd.to_datetime('1.1.2020')\n",
    "pd.to_datetime('1.1 2020')\n",
    "pd.to_datetime('1 1 2020')\n",
    "pd.to_datetime('1 1-2020')\n",
    "pd.to_datetime('1-1 2020')\n",
    "pd.to_datetime('1-1-2020')\n",
    "pd.to_datetime('1/1/2020')\n",
    "pd.to_datetime('20200101')\n",
    "pd.to_datetime('2020.0101')"
   ]
  },
  {
   "cell_type": "markdown",
   "metadata": {},
   "source": [
    "#### 可利用format参数强制匹配"
   ]
  },
  {
   "cell_type": "code",
   "execution_count": 3,
   "metadata": {},
   "outputs": [
    {
     "data": {
      "text/plain": [
       "Timestamp('2020-01-01 00:00:00')"
      ]
     },
     "execution_count": 3,
     "metadata": {},
     "output_type": "execute_result"
    }
   ],
   "source": [
    "pd.to_datetime('2020\\\\1\\\\1',format='%Y\\\\%m\\\\%d')\n",
    "pd.to_datetime('2020`1`1',format='%Y`%m`%d')\n",
    "pd.to_datetime('2020.1 1',format='%Y.%m %d')\n",
    "pd.to_datetime('1 1.2020',format='%d %m.%Y')"
   ]
  },
  {
   "cell_type": "markdown",
   "metadata": {},
   "source": [
    "#### 同时，使用列表可以将其转为时间点索引"
   ]
  },
  {
   "cell_type": "code",
   "execution_count": 4,
   "metadata": {},
   "outputs": [
    {
     "data": {
      "text/plain": [
       "2020-01-01    0\n",
       "2020-01-02    1\n",
       "dtype: int64"
      ]
     },
     "execution_count": 4,
     "metadata": {},
     "output_type": "execute_result"
    }
   ],
   "source": [
    "pd.Series(range(2),index=pd.to_datetime(['2020/1/1',\n",
    "                                         '2020/1/2']))"
   ]
  },
  {
   "cell_type": "code",
   "execution_count": 5,
   "metadata": {},
   "outputs": [
    {
     "data": {
      "text/plain": [
       "pandas.core.indexes.datetimes.DatetimeIndex"
      ]
     },
     "execution_count": 5,
     "metadata": {},
     "output_type": "execute_result"
    }
   ],
   "source": [
    "type(pd.to_datetime(['2020/1/1','2020/1/2']))"
   ]
  },
  {
   "cell_type": "markdown",
   "metadata": {},
   "source": [
    "#### 对于DataFrame而言，如果列已经按照时间顺序排好，则利用to_datetime可自动转换"
   ]
  },
  {
   "cell_type": "code",
   "execution_count": 6,
   "metadata": {},
   "outputs": [
    {
     "data": {
      "text/plain": [
       "0   2020-01-01\n",
       "1   2020-01-02\n",
       "dtype: datetime64[ns]"
      ]
     },
     "execution_count": 6,
     "metadata": {},
     "output_type": "execute_result"
    }
   ],
   "source": [
    "df = pd.DataFrame({'year': [2020, 2020],'month': [1, 1], 'day': [1, 2]})\n",
    "pd.to_datetime(df)"
   ]
  },
  {
   "cell_type": "markdown",
   "metadata": {},
   "source": [
    "#### b）时间精度与范围限制"
   ]
  },
  {
   "cell_type": "markdown",
   "metadata": {},
   "source": [
    "#### 事实上，Timestamp的精度远远不止day，可以最小到纳秒ns"
   ]
  },
  {
   "cell_type": "code",
   "execution_count": 7,
   "metadata": {},
   "outputs": [
    {
     "data": {
      "text/plain": [
       "Timestamp('2020-01-01 00:00:00.123456789')"
      ]
     },
     "execution_count": 7,
     "metadata": {},
     "output_type": "execute_result"
    }
   ],
   "source": [
    "pd.to_datetime('2020/1/1 00:00:00.123456789')"
   ]
  },
  {
   "cell_type": "markdown",
   "metadata": {},
   "source": [
    "#### 同时，它带来范围的代价就是只有大约584年的时间点是可用的"
   ]
  },
  {
   "cell_type": "code",
   "execution_count": 9,
   "metadata": {},
   "outputs": [
    {
     "data": {
      "text/plain": [
       "Timestamp('1677-09-21 00:12:43.145225')"
      ]
     },
     "execution_count": 9,
     "metadata": {},
     "output_type": "execute_result"
    }
   ],
   "source": [
    "pd.Timestamp.min"
   ]
  },
  {
   "cell_type": "code",
   "execution_count": 10,
   "metadata": {},
   "outputs": [
    {
     "data": {
      "text/plain": [
       "Timestamp('2262-04-11 23:47:16.854775807')"
      ]
     },
     "execution_count": 10,
     "metadata": {},
     "output_type": "execute_result"
    }
   ],
   "source": [
    "pd.Timestamp.max"
   ]
  },
  {
   "cell_type": "markdown",
   "metadata": {},
   "source": [
    "#### c）date_range方法"
   ]
  },
  {
   "cell_type": "markdown",
   "metadata": {},
   "source": [
    "#### 一般来说，start/end/periods（时间点个数）/freq（间隔方法）是该方法最重要的参数，给定了其中的3个，剩下的一个就会被确定"
   ]
  },
  {
   "cell_type": "code",
   "execution_count": 12,
   "metadata": {},
   "outputs": [
    {
     "data": {
      "text/plain": [
       "DatetimeIndex(['2020-01-01 00:00:00', '2020-01-05 12:00:00',\n",
       "               '2020-01-10 00:00:00'],\n",
       "              dtype='datetime64[ns]', freq=None)"
      ]
     },
     "execution_count": 12,
     "metadata": {},
     "output_type": "execute_result"
    }
   ],
   "source": [
    "pd.date_range(start='2020/1/1',end='2020/1/10',periods=3)"
   ]
  },
  {
   "cell_type": "code",
   "execution_count": 14,
   "metadata": {},
   "outputs": [
    {
     "data": {
      "text/plain": [
       "DatetimeIndex(['2020-01-01 12:00:00', '2020-01-01 12:00:01',\n",
       "               '2020-01-01 12:00:02', '2020-01-01 12:00:03',\n",
       "               '2020-01-01 12:00:04', '2020-01-01 12:00:05',\n",
       "               '2020-01-01 12:00:06', '2020-01-01 12:00:07',\n",
       "               '2020-01-01 12:00:08', '2020-01-01 12:00:09',\n",
       "               ...\n",
       "               '2020-01-02 12:29:51', '2020-01-02 12:29:52',\n",
       "               '2020-01-02 12:29:53', '2020-01-02 12:29:54',\n",
       "               '2020-01-02 12:29:55', '2020-01-02 12:29:56',\n",
       "               '2020-01-02 12:29:57', '2020-01-02 12:29:58',\n",
       "               '2020-01-02 12:29:59', '2020-01-02 12:30:00'],\n",
       "              dtype='datetime64[ns]', length=88201, freq='S')"
      ]
     },
     "execution_count": 14,
     "metadata": {},
     "output_type": "execute_result"
    }
   ],
   "source": [
    "pd.date_range(start='2020/1/1/12:00',end='2020/1/2/12:30',freq='S')"
   ]
  },
  {
   "cell_type": "markdown",
   "metadata": {},
   "source": [
    "#### bdate_range是一个类似与date_range的方法，特点在于可以在自带的工作日间隔设置上，再选择weekmask参数和holidays参数\n",
    "#### 它的freq中有一个特殊的'C'/'CBM'/'CBMS'选项，表示定制，需要联合weekmask参数和holidays参数使用\n",
    "#### 例如现在需要将工作日中的周一、周二、周五3天保留，并将部分holidays剔除"
   ]
  },
  {
   "cell_type": "code",
   "execution_count": 15,
   "metadata": {},
   "outputs": [
    {
     "data": {
      "text/plain": [
       "DatetimeIndex(['2020-01-03', '2020-01-06', '2020-01-13', '2020-01-14'], dtype='datetime64[ns]', freq='C')"
      ]
     },
     "execution_count": 15,
     "metadata": {},
     "output_type": "execute_result"
    }
   ],
   "source": [
    "weekmask = 'Mon Tue Fri'\n",
    "holidays = [pd.Timestamp('2020/1/%s'%i) for i in range(7,13)]\n",
    "#注意holidays\n",
    "pd.bdate_range(start='2020-1-1',end='2020-1-15',freq='C',weekmask=weekmask,holidays=holidays)"
   ]
  },
  {
   "cell_type": "markdown",
   "metadata": {},
   "source": [
    "### 3. DateOffset对象"
   ]
  },
  {
   "cell_type": "markdown",
   "metadata": {},
   "source": [
    "#### a）DataOffset与Timedelta的区别\n",
    "#### Timedelta绝对时间差的特点指无论是冬令时还是夏令时，增减1day都只计算24小时\n",
    "#### DataOffset相对时间差指，无论一天是23\\24\\25小时，增减1day都与当天相同的时间保持一致\n",
    "#### 例如，英国当地时间 2020年03月29日，01:00:00 时钟向前调整 1 小时 变为 2020年03月29日，02:00:00，开始夏令时"
   ]
  },
  {
   "cell_type": "code",
   "execution_count": 16,
   "metadata": {},
   "outputs": [
    {
     "data": {
      "text/plain": [
       "Timestamp('2020-03-30 02:00:00+0300', tz='Europe/Helsinki')"
      ]
     },
     "execution_count": 16,
     "metadata": {},
     "output_type": "execute_result"
    }
   ],
   "source": [
    "ts = pd.Timestamp('2020-3-29 01:00:00', tz='Europe/Helsinki')\n",
    "ts + pd.Timedelta(days=1)"
   ]
  },
  {
   "cell_type": "code",
   "execution_count": 17,
   "metadata": {},
   "outputs": [
    {
     "data": {
      "text/plain": [
       "Timestamp('2020-03-30 01:00:00+0300', tz='Europe/Helsinki')"
      ]
     },
     "execution_count": 17,
     "metadata": {},
     "output_type": "execute_result"
    }
   ],
   "source": [
    "ts + pd.DateOffset(days=1)"
   ]
  },
  {
   "cell_type": "markdown",
   "metadata": {},
   "source": [
    "#### 这似乎有些令人头大，但只要把tz（time zone）去除就可以不用管它了，两者保持一致，除非要使用到时区变换"
   ]
  },
  {
   "cell_type": "code",
   "execution_count": 18,
   "metadata": {},
   "outputs": [
    {
     "data": {
      "text/plain": [
       "Timestamp('2020-03-30 01:00:00')"
      ]
     },
     "execution_count": 18,
     "metadata": {},
     "output_type": "execute_result"
    }
   ],
   "source": [
    "ts = pd.Timestamp('2020-3-29 01:00:00')\n",
    "ts + pd.Timedelta(days=1)"
   ]
  },
  {
   "cell_type": "code",
   "execution_count": 19,
   "metadata": {},
   "outputs": [
    {
     "data": {
      "text/plain": [
       "Timestamp('2020-03-30 01:00:00')"
      ]
     },
     "execution_count": 19,
     "metadata": {},
     "output_type": "execute_result"
    }
   ],
   "source": [
    "ts + pd.DateOffset(days=1)"
   ]
  },
  {
   "cell_type": "markdown",
   "metadata": {},
   "source": [
    "#### b)增减一段时间"
   ]
  },
  {
   "cell_type": "markdown",
   "metadata": {},
   "source": [
    "#### DateOffset的可选参数包括years/months/weeks/days/hours/minutes/seconds"
   ]
  },
  {
   "cell_type": "code",
   "execution_count": 20,
   "metadata": {},
   "outputs": [
    {
     "data": {
      "text/plain": [
       "Timestamp('2019-12-18 00:20:00')"
      ]
     },
     "execution_count": 20,
     "metadata": {},
     "output_type": "execute_result"
    }
   ],
   "source": [
    "pd.Timestamp('2020-01-01') + pd.DateOffset(minutes=20) - pd.DateOffset(weeks=2)"
   ]
  },
  {
   "cell_type": "code",
   "execution_count": 21,
   "metadata": {},
   "outputs": [
    {
     "data": {
      "text/plain": [
       "Timestamp('2020-01-15 00:00:00')"
      ]
     },
     "execution_count": 21,
     "metadata": {},
     "output_type": "execute_result"
    }
   ],
   "source": [
    "pd.Timestamp('2020-01-01') + pd.offsets.Week(2)"
   ]
  },
  {
   "cell_type": "code",
   "execution_count": 22,
   "metadata": {},
   "outputs": [
    {
     "data": {
      "text/plain": [
       "Timestamp('2020-03-02 00:00:00')"
      ]
     },
     "execution_count": 22,
     "metadata": {},
     "output_type": "execute_result"
    }
   ],
   "source": [
    "pd.Timestamp('2020-01-01') + pd.offsets.BQuarterBegin(1)"
   ]
  },
  {
   "cell_type": "markdown",
   "metadata": {},
   "source": [
    "#### d）序列的offset操作\n",
    "#### 利用apply函数"
   ]
  },
  {
   "cell_type": "code",
   "execution_count": 23,
   "metadata": {},
   "outputs": [
    {
     "data": {
      "text/plain": [
       "0   2023-01-02\n",
       "1   2024-01-01\n",
       "2   2025-01-01\n",
       "dtype: datetime64[ns]"
      ]
     },
     "execution_count": 23,
     "metadata": {},
     "output_type": "execute_result"
    }
   ],
   "source": [
    "# 有点懵逼\n",
    "pd.Series(pd.offsets.BYearBegin(3).apply(i)\n",
    "          for i in pd.date_range('20200101',periods=3,freq='Y'))"
   ]
  },
  {
   "cell_type": "markdown",
   "metadata": {},
   "source": [
    "#### 直接使用对象加减"
   ]
  },
  {
   "cell_type": "code",
   "execution_count": 24,
   "metadata": {},
   "outputs": [
    {
     "data": {
      "text/plain": [
       "DatetimeIndex(['2023-01-02', '2024-01-01', '2025-01-01'], dtype='datetime64[ns]', freq='A-DEC')"
      ]
     },
     "execution_count": 24,
     "metadata": {},
     "output_type": "execute_result"
    }
   ],
   "source": [
    "pd.date_range('20200101',periods=3,freq='Y')\\\n",
    "+ pd.offsets.BYearBegin(3)"
   ]
  },
  {
   "cell_type": "markdown",
   "metadata": {},
   "source": [
    "#### 定制offset，可以指定weekmask和holidays参数（思考为什么三个都是一个值）"
   ]
  },
  {
   "cell_type": "code",
   "execution_count": 25,
   "metadata": {},
   "outputs": [
    {
     "data": {
      "text/plain": [
       "0   2020-01-15\n",
       "1   2020-01-15\n",
       "2   2020-01-15\n",
       "dtype: datetime64[ns]"
      ]
     },
     "execution_count": 25,
     "metadata": {},
     "output_type": "execute_result"
    }
   ],
   "source": [
    "pd.Series(pd.offsets.CDay(3,weekmask='Wed Fri',holidays='2020010').apply(i)\n",
    "                                  for i in pd.date_range('20200105',periods=3,freq='D'))"
   ]
  },
  {
   "cell_type": "markdown",
   "metadata": {},
   "source": [
    "## 二、时序的索引及属性\n",
    "### 1. 索引切片\n",
    "#### 这一部分几乎与第二章的规则完全一致"
   ]
  },
  {
   "cell_type": "code",
   "execution_count": 26,
   "metadata": {},
   "outputs": [
    {
     "data": {
      "text/plain": [
       "2020-01-05   -0.019886\n",
       "2020-01-12    0.246206\n",
       "2020-01-19   -0.893988\n",
       "2020-01-26   -0.529773\n",
       "2020-02-02    1.029997\n",
       "Freq: W-SUN, dtype: float64"
      ]
     },
     "execution_count": 26,
     "metadata": {},
     "output_type": "execute_result"
    }
   ],
   "source": [
    "rng = pd.date_range('2020','2021', freq='W')\n",
    "ts = pd.Series(np.random.randn(len(rng)), index=rng)\n",
    "ts.head()"
   ]
  },
  {
   "cell_type": "code",
   "execution_count": 27,
   "metadata": {},
   "outputs": [
    {
     "data": {
      "text/plain": [
       "-0.5297731390666697"
      ]
     },
     "execution_count": 27,
     "metadata": {},
     "output_type": "execute_result"
    }
   ],
   "source": [
    "ts['2020-01-26']"
   ]
  },
  {
   "cell_type": "markdown",
   "metadata": {},
   "source": [
    "#### 合法字符自动转换为时间点"
   ]
  },
  {
   "cell_type": "code",
   "execution_count": 28,
   "metadata": {},
   "outputs": [
    {
     "data": {
      "text/plain": [
       "2020-01-26   -0.529773\n",
       "2020-02-02    1.029997\n",
       "2020-02-09    0.365770\n",
       "2020-02-16   -2.787935\n",
       "2020-02-23    0.207220\n",
       "Freq: W-SUN, dtype: float64"
      ]
     },
     "execution_count": 28,
     "metadata": {},
     "output_type": "execute_result"
    }
   ],
   "source": [
    "ts['2020-01-26':'20200726'].head()"
   ]
  },
  {
   "cell_type": "markdown",
   "metadata": {},
   "source": [
    "### 2. 子集索引"
   ]
  },
  {
   "cell_type": "code",
   "execution_count": 29,
   "metadata": {},
   "outputs": [
    {
     "data": {
      "text/plain": [
       "2020-07-05    0.049849\n",
       "2020-07-12    0.525298\n",
       "2020-07-19   -0.592458\n",
       "2020-07-26    1.779098\n",
       "Freq: W-SUN, dtype: float64"
      ]
     },
     "execution_count": 29,
     "metadata": {},
     "output_type": "execute_result"
    }
   ],
   "source": [
    "ts['2020-7'].head()"
   ]
  },
  {
   "cell_type": "markdown",
   "metadata": {},
   "source": [
    "#### 支持混合形态索引"
   ]
  },
  {
   "cell_type": "code",
   "execution_count": 30,
   "metadata": {},
   "outputs": [
    {
     "data": {
      "text/plain": [
       "2020-01-05   -0.019886\n",
       "2020-01-12    0.246206\n",
       "2020-01-19   -0.893988\n",
       "2020-01-26   -0.529773\n",
       "2020-02-02    1.029997\n",
       "Freq: W-SUN, dtype: float64"
      ]
     },
     "execution_count": 30,
     "metadata": {},
     "output_type": "execute_result"
    }
   ],
   "source": [
    "ts['2011-1':'20200726'].head()"
   ]
  },
  {
   "cell_type": "markdown",
   "metadata": {},
   "source": [
    "### 3.时间点的属性\n",
    "#### 采用dt对象可以轻松获得关于时间的信息"
   ]
  },
  {
   "cell_type": "code",
   "execution_count": 31,
   "metadata": {},
   "outputs": [
    {
     "data": {
      "text/plain": [
       "0    1\n",
       "1    2\n",
       "2    3\n",
       "3    4\n",
       "4    5\n",
       "dtype: int64"
      ]
     },
     "execution_count": 31,
     "metadata": {},
     "output_type": "execute_result"
    }
   ],
   "source": [
    "pd.Series(ts.index).dt.week.head()"
   ]
  },
  {
   "cell_type": "code",
   "execution_count": 32,
   "metadata": {},
   "outputs": [
    {
     "data": {
      "text/plain": [
       "0     5\n",
       "1    12\n",
       "2    19\n",
       "3    26\n",
       "4     2\n",
       "dtype: int64"
      ]
     },
     "execution_count": 32,
     "metadata": {},
     "output_type": "execute_result"
    }
   ],
   "source": [
    "pd.Series(ts.index).dt.day.head()"
   ]
  },
  {
   "cell_type": "markdown",
   "metadata": {},
   "source": [
    "#### 利用strftime可重新修改时间格式"
   ]
  },
  {
   "cell_type": "code",
   "execution_count": 33,
   "metadata": {},
   "outputs": [
    {
     "data": {
      "text/plain": [
       "0    2020-间隔1-01-间隔2-05\n",
       "1    2020-间隔1-01-间隔2-12\n",
       "2    2020-间隔1-01-间隔2-19\n",
       "3    2020-间隔1-01-间隔2-26\n",
       "4    2020-间隔1-02-间隔2-02\n",
       "dtype: object"
      ]
     },
     "execution_count": 33,
     "metadata": {},
     "output_type": "execute_result"
    }
   ],
   "source": [
    "pd.Series(ts.index).dt.strftime('%Y-间隔1-%m-间隔2-%d').head()"
   ]
  },
  {
   "cell_type": "markdown",
   "metadata": {},
   "source": [
    "#### 对于datetime对象可以直接通过属性获取信息"
   ]
  },
  {
   "cell_type": "code",
   "execution_count": 34,
   "metadata": {},
   "outputs": [
    {
     "data": {
      "text/plain": [
       "Int64Index([ 1,  1,  1,  1,  2,  2,  2,  2,  3,  3,  3,  3,  3,  4,  4,  4,  4,\n",
       "             5,  5,  5,  5,  5,  6,  6,  6,  6,  7,  7,  7,  7,  8,  8,  8,  8,\n",
       "             8,  9,  9,  9,  9, 10, 10, 10, 10, 11, 11, 11, 11, 11, 12, 12, 12,\n",
       "            12],\n",
       "           dtype='int64')"
      ]
     },
     "execution_count": 34,
     "metadata": {},
     "output_type": "execute_result"
    }
   ],
   "source": [
    "pd.date_range('2020','2021', freq='W').month"
   ]
  },
  {
   "cell_type": "code",
   "execution_count": 35,
   "metadata": {},
   "outputs": [
    {
     "data": {
      "text/plain": [
       "Int64Index([6, 6, 6, 6, 6, 6, 6, 6, 6, 6, 6, 6, 6, 6, 6, 6, 6, 6, 6, 6, 6, 6,\n",
       "            6, 6, 6, 6, 6, 6, 6, 6, 6, 6, 6, 6, 6, 6, 6, 6, 6, 6, 6, 6, 6, 6,\n",
       "            6, 6, 6, 6, 6, 6, 6, 6],\n",
       "           dtype='int64')"
      ]
     },
     "execution_count": 35,
     "metadata": {},
     "output_type": "execute_result"
    }
   ],
   "source": [
    "pd.date_range('2020','2021', freq='W').weekday"
   ]
  },
  {
   "cell_type": "markdown",
   "metadata": {},
   "source": [
    "## 三、重采样"
   ]
  },
  {
   "cell_type": "markdown",
   "metadata": {},
   "source": [
    "#### 所谓重采样，就是指resample函数，它可以看做时序版本的groupby函数"
   ]
  },
  {
   "cell_type": "markdown",
   "metadata": {},
   "source": [
    "### 1. resample对象的基本操作\n",
    "#### 采样频率一般设置为上面提到的offset字符"
   ]
  },
  {
   "cell_type": "code",
   "execution_count": 42,
   "metadata": {},
   "outputs": [
    {
     "data": {
      "text/html": [
       "<div>\n",
       "<style scoped>\n",
       "    .dataframe tbody tr th:only-of-type {\n",
       "        vertical-align: middle;\n",
       "    }\n",
       "\n",
       "    .dataframe tbody tr th {\n",
       "        vertical-align: top;\n",
       "    }\n",
       "\n",
       "    .dataframe thead th {\n",
       "        text-align: right;\n",
       "    }\n",
       "</style>\n",
       "<table border=\"1\" class=\"dataframe\">\n",
       "  <thead>\n",
       "    <tr style=\"text-align: right;\">\n",
       "      <th></th>\n",
       "      <th>A</th>\n",
       "      <th>B</th>\n",
       "      <th>C</th>\n",
       "    </tr>\n",
       "  </thead>\n",
       "  <tbody>\n",
       "    <tr>\n",
       "      <th>2020-01-01 00:00:00</th>\n",
       "      <td>-0.710459</td>\n",
       "      <td>-1.242423</td>\n",
       "      <td>-0.399911</td>\n",
       "    </tr>\n",
       "    <tr>\n",
       "      <th>2020-01-01 00:00:01</th>\n",
       "      <td>0.998817</td>\n",
       "      <td>-1.231277</td>\n",
       "      <td>-1.707065</td>\n",
       "    </tr>\n",
       "    <tr>\n",
       "      <th>2020-01-01 00:00:02</th>\n",
       "      <td>-1.241261</td>\n",
       "      <td>0.218132</td>\n",
       "      <td>0.607488</td>\n",
       "    </tr>\n",
       "    <tr>\n",
       "      <th>2020-01-01 00:00:03</th>\n",
       "      <td>0.634646</td>\n",
       "      <td>-0.024115</td>\n",
       "      <td>-1.056445</td>\n",
       "    </tr>\n",
       "    <tr>\n",
       "      <th>2020-01-01 00:00:04</th>\n",
       "      <td>0.312386</td>\n",
       "      <td>-0.422934</td>\n",
       "      <td>-0.715320</td>\n",
       "    </tr>\n",
       "  </tbody>\n",
       "</table>\n",
       "</div>"
      ],
      "text/plain": [
       "                            A         B         C\n",
       "2020-01-01 00:00:00 -0.710459 -1.242423 -0.399911\n",
       "2020-01-01 00:00:01  0.998817 -1.231277 -1.707065\n",
       "2020-01-01 00:00:02 -1.241261  0.218132  0.607488\n",
       "2020-01-01 00:00:03  0.634646 -0.024115 -1.056445\n",
       "2020-01-01 00:00:04  0.312386 -0.422934 -0.715320"
      ]
     },
     "execution_count": 42,
     "metadata": {},
     "output_type": "execute_result"
    }
   ],
   "source": [
    "df_r = pd.DataFrame(np.random.randn(1000, 3),\n",
    "                    index=pd.date_range('1/1/2020', freq='S', \n",
    "                                        periods=1000),\n",
    "                  columns=['A', 'B', 'C'])\n",
    "df_r.head()"
   ]
  },
  {
   "cell_type": "code",
   "execution_count": 39,
   "metadata": {},
   "outputs": [
    {
     "data": {
      "text/plain": [
       "<pandas.core.resample.DatetimeIndexResampler object at 0x11f860240>"
      ]
     },
     "execution_count": 39,
     "metadata": {},
     "output_type": "execute_result"
    }
   ],
   "source": [
    "r = df_r.resample('3min')\n",
    "r"
   ]
  },
  {
   "cell_type": "code",
   "execution_count": 40,
   "metadata": {},
   "outputs": [
    {
     "data": {
      "text/html": [
       "<div>\n",
       "<style scoped>\n",
       "    .dataframe tbody tr th:only-of-type {\n",
       "        vertical-align: middle;\n",
       "    }\n",
       "\n",
       "    .dataframe tbody tr th {\n",
       "        vertical-align: top;\n",
       "    }\n",
       "\n",
       "    .dataframe thead th {\n",
       "        text-align: right;\n",
       "    }\n",
       "</style>\n",
       "<table border=\"1\" class=\"dataframe\">\n",
       "  <thead>\n",
       "    <tr style=\"text-align: right;\">\n",
       "      <th></th>\n",
       "      <th>A</th>\n",
       "      <th>B</th>\n",
       "      <th>C</th>\n",
       "    </tr>\n",
       "  </thead>\n",
       "  <tbody>\n",
       "    <tr>\n",
       "      <th>2020-01-01 00:00:00</th>\n",
       "      <td>-19.905580</td>\n",
       "      <td>-1.147018</td>\n",
       "      <td>-12.081827</td>\n",
       "    </tr>\n",
       "    <tr>\n",
       "      <th>2020-01-01 00:03:00</th>\n",
       "      <td>8.761440</td>\n",
       "      <td>-2.277045</td>\n",
       "      <td>7.807917</td>\n",
       "    </tr>\n",
       "    <tr>\n",
       "      <th>2020-01-01 00:06:00</th>\n",
       "      <td>27.647427</td>\n",
       "      <td>-6.472897</td>\n",
       "      <td>-9.581858</td>\n",
       "    </tr>\n",
       "    <tr>\n",
       "      <th>2020-01-01 00:09:00</th>\n",
       "      <td>-4.149138</td>\n",
       "      <td>17.063382</td>\n",
       "      <td>-3.069133</td>\n",
       "    </tr>\n",
       "    <tr>\n",
       "      <th>2020-01-01 00:12:00</th>\n",
       "      <td>8.556679</td>\n",
       "      <td>18.573375</td>\n",
       "      <td>1.518345</td>\n",
       "    </tr>\n",
       "    <tr>\n",
       "      <th>2020-01-01 00:15:00</th>\n",
       "      <td>-0.648293</td>\n",
       "      <td>-4.132440</td>\n",
       "      <td>-7.276577</td>\n",
       "    </tr>\n",
       "  </tbody>\n",
       "</table>\n",
       "</div>"
      ],
      "text/plain": [
       "                             A          B          C\n",
       "2020-01-01 00:00:00 -19.905580  -1.147018 -12.081827\n",
       "2020-01-01 00:03:00   8.761440  -2.277045   7.807917\n",
       "2020-01-01 00:06:00  27.647427  -6.472897  -9.581858\n",
       "2020-01-01 00:09:00  -4.149138  17.063382  -3.069133\n",
       "2020-01-01 00:12:00   8.556679  18.573375   1.518345\n",
       "2020-01-01 00:15:00  -0.648293  -4.132440  -7.276577"
      ]
     },
     "execution_count": 40,
     "metadata": {},
     "output_type": "execute_result"
    }
   ],
   "source": [
    "r.sum()"
   ]
  },
  {
   "cell_type": "code",
   "execution_count": 43,
   "metadata": {},
   "outputs": [
    {
     "data": {
      "text/html": [
       "<div>\n",
       "<style scoped>\n",
       "    .dataframe tbody tr th:only-of-type {\n",
       "        vertical-align: middle;\n",
       "    }\n",
       "\n",
       "    .dataframe tbody tr th {\n",
       "        vertical-align: top;\n",
       "    }\n",
       "\n",
       "    .dataframe thead th {\n",
       "        text-align: right;\n",
       "    }\n",
       "</style>\n",
       "<table border=\"1\" class=\"dataframe\">\n",
       "  <thead>\n",
       "    <tr style=\"text-align: right;\">\n",
       "      <th></th>\n",
       "      <th>A</th>\n",
       "      <th>B</th>\n",
       "      <th>C</th>\n",
       "    </tr>\n",
       "  </thead>\n",
       "  <tbody>\n",
       "    <tr>\n",
       "      <th>2020-01-01</th>\n",
       "      <td>7.193769</td>\n",
       "      <td>-4.459487</td>\n",
       "      <td>-5.363618</td>\n",
       "    </tr>\n",
       "    <tr>\n",
       "      <th>2020-02-03</th>\n",
       "      <td>4.559114</td>\n",
       "      <td>3.802629</td>\n",
       "      <td>0.981003</td>\n",
       "    </tr>\n",
       "    <tr>\n",
       "      <th>2020-03-02</th>\n",
       "      <td>6.674487</td>\n",
       "      <td>4.376830</td>\n",
       "      <td>7.864737</td>\n",
       "    </tr>\n",
       "    <tr>\n",
       "      <th>2020-04-01</th>\n",
       "      <td>3.071808</td>\n",
       "      <td>12.011614</td>\n",
       "      <td>0.982141</td>\n",
       "    </tr>\n",
       "    <tr>\n",
       "      <th>2020-05-01</th>\n",
       "      <td>-4.322686</td>\n",
       "      <td>2.372165</td>\n",
       "      <td>-3.098655</td>\n",
       "    </tr>\n",
       "    <tr>\n",
       "      <th>2020-06-01</th>\n",
       "      <td>-0.628935</td>\n",
       "      <td>-5.098372</td>\n",
       "      <td>-4.214073</td>\n",
       "    </tr>\n",
       "    <tr>\n",
       "      <th>2020-07-01</th>\n",
       "      <td>-1.176535</td>\n",
       "      <td>-1.896276</td>\n",
       "      <td>-3.150601</td>\n",
       "    </tr>\n",
       "  </tbody>\n",
       "</table>\n",
       "</div>"
      ],
      "text/plain": [
       "                   A          B         C\n",
       "2020-01-01  7.193769  -4.459487 -5.363618\n",
       "2020-02-03  4.559114   3.802629  0.981003\n",
       "2020-03-02  6.674487   4.376830  7.864737\n",
       "2020-04-01  3.071808  12.011614  0.982141\n",
       "2020-05-01 -4.322686   2.372165 -3.098655\n",
       "2020-06-01 -0.628935  -5.098372 -4.214073\n",
       "2020-07-01 -1.176535  -1.896276 -3.150601"
      ]
     },
     "execution_count": 43,
     "metadata": {},
     "output_type": "execute_result"
    }
   ],
   "source": [
    "df_r2 = pd.DataFrame(np.random.randn(200, 3),index=pd.date_range('1/1/2020', freq='D', periods=200),\n",
    "                  columns=['A', 'B', 'C'])\n",
    "r = df_r2.resample('CBMS')\n",
    "r.sum()"
   ]
  },
  {
   "cell_type": "markdown",
   "metadata": {},
   "source": [
    "### 2.采样聚合"
   ]
  },
  {
   "cell_type": "code",
   "execution_count": 44,
   "metadata": {},
   "outputs": [],
   "source": [
    "r = df_r.resample('3T')"
   ]
  },
  {
   "cell_type": "code",
   "execution_count": 45,
   "metadata": {},
   "outputs": [
    {
     "data": {
      "text/plain": [
       "2020-01-01 00:00:00    0.040173\n",
       "2020-01-01 00:03:00    0.070012\n",
       "2020-01-01 00:06:00   -0.111557\n",
       "2020-01-01 00:09:00    0.081217\n",
       "2020-01-01 00:12:00   -0.062303\n",
       "2020-01-01 00:15:00   -0.102796\n",
       "Freq: 3T, Name: A, dtype: float64"
      ]
     },
     "execution_count": 45,
     "metadata": {},
     "output_type": "execute_result"
    }
   ],
   "source": [
    "r['A'].mean()"
   ]
  },
  {
   "cell_type": "code",
   "execution_count": 46,
   "metadata": {},
   "outputs": [
    {
     "data": {
      "text/html": [
       "<div>\n",
       "<style scoped>\n",
       "    .dataframe tbody tr th:only-of-type {\n",
       "        vertical-align: middle;\n",
       "    }\n",
       "\n",
       "    .dataframe tbody tr th {\n",
       "        vertical-align: top;\n",
       "    }\n",
       "\n",
       "    .dataframe thead th {\n",
       "        text-align: right;\n",
       "    }\n",
       "</style>\n",
       "<table border=\"1\" class=\"dataframe\">\n",
       "  <thead>\n",
       "    <tr style=\"text-align: right;\">\n",
       "      <th></th>\n",
       "      <th>sum</th>\n",
       "      <th>mean</th>\n",
       "      <th>std</th>\n",
       "    </tr>\n",
       "  </thead>\n",
       "  <tbody>\n",
       "    <tr>\n",
       "      <th>2020-01-01 00:00:00</th>\n",
       "      <td>7.231150</td>\n",
       "      <td>0.040173</td>\n",
       "      <td>0.988067</td>\n",
       "    </tr>\n",
       "    <tr>\n",
       "      <th>2020-01-01 00:03:00</th>\n",
       "      <td>12.602101</td>\n",
       "      <td>0.070012</td>\n",
       "      <td>1.069133</td>\n",
       "    </tr>\n",
       "    <tr>\n",
       "      <th>2020-01-01 00:06:00</th>\n",
       "      <td>-20.080282</td>\n",
       "      <td>-0.111557</td>\n",
       "      <td>1.056758</td>\n",
       "    </tr>\n",
       "    <tr>\n",
       "      <th>2020-01-01 00:09:00</th>\n",
       "      <td>14.619133</td>\n",
       "      <td>0.081217</td>\n",
       "      <td>1.004673</td>\n",
       "    </tr>\n",
       "    <tr>\n",
       "      <th>2020-01-01 00:12:00</th>\n",
       "      <td>-11.214508</td>\n",
       "      <td>-0.062303</td>\n",
       "      <td>1.057115</td>\n",
       "    </tr>\n",
       "    <tr>\n",
       "      <th>2020-01-01 00:15:00</th>\n",
       "      <td>-10.279648</td>\n",
       "      <td>-0.102796</td>\n",
       "      <td>1.084047</td>\n",
       "    </tr>\n",
       "  </tbody>\n",
       "</table>\n",
       "</div>"
      ],
      "text/plain": [
       "                           sum      mean       std\n",
       "2020-01-01 00:00:00   7.231150  0.040173  0.988067\n",
       "2020-01-01 00:03:00  12.602101  0.070012  1.069133\n",
       "2020-01-01 00:06:00 -20.080282 -0.111557  1.056758\n",
       "2020-01-01 00:09:00  14.619133  0.081217  1.004673\n",
       "2020-01-01 00:12:00 -11.214508 -0.062303  1.057115\n",
       "2020-01-01 00:15:00 -10.279648 -0.102796  1.084047"
      ]
     },
     "execution_count": 46,
     "metadata": {},
     "output_type": "execute_result"
    }
   ],
   "source": [
    "r['A'].agg([np.sum, np.mean, np.std])"
   ]
  },
  {
   "cell_type": "markdown",
   "metadata": {},
   "source": [
    "#### 类似地，可以使用函数/lambda表达式"
   ]
  },
  {
   "cell_type": "code",
   "execution_count": 47,
   "metadata": {},
   "outputs": [
    {
     "data": {
      "text/html": [
       "<div>\n",
       "<style scoped>\n",
       "    .dataframe tbody tr th:only-of-type {\n",
       "        vertical-align: middle;\n",
       "    }\n",
       "\n",
       "    .dataframe tbody tr th {\n",
       "        vertical-align: top;\n",
       "    }\n",
       "\n",
       "    .dataframe thead th {\n",
       "        text-align: right;\n",
       "    }\n",
       "</style>\n",
       "<table border=\"1\" class=\"dataframe\">\n",
       "  <thead>\n",
       "    <tr style=\"text-align: right;\">\n",
       "      <th></th>\n",
       "      <th>A</th>\n",
       "      <th>B</th>\n",
       "    </tr>\n",
       "  </thead>\n",
       "  <tbody>\n",
       "    <tr>\n",
       "      <th>2020-01-01 00:00:00</th>\n",
       "      <td>7.231150</td>\n",
       "      <td>4.869375</td>\n",
       "    </tr>\n",
       "    <tr>\n",
       "      <th>2020-01-01 00:03:00</th>\n",
       "      <td>12.602101</td>\n",
       "      <td>5.285105</td>\n",
       "    </tr>\n",
       "    <tr>\n",
       "      <th>2020-01-01 00:06:00</th>\n",
       "      <td>-20.080282</td>\n",
       "      <td>6.063629</td>\n",
       "    </tr>\n",
       "    <tr>\n",
       "      <th>2020-01-01 00:09:00</th>\n",
       "      <td>14.619133</td>\n",
       "      <td>5.186871</td>\n",
       "    </tr>\n",
       "    <tr>\n",
       "      <th>2020-01-01 00:12:00</th>\n",
       "      <td>-11.214508</td>\n",
       "      <td>5.367948</td>\n",
       "    </tr>\n",
       "    <tr>\n",
       "      <th>2020-01-01 00:15:00</th>\n",
       "      <td>-10.279648</td>\n",
       "      <td>4.663849</td>\n",
       "    </tr>\n",
       "  </tbody>\n",
       "</table>\n",
       "</div>"
      ],
      "text/plain": [
       "                             A         B\n",
       "2020-01-01 00:00:00   7.231150  4.869375\n",
       "2020-01-01 00:03:00  12.602101  5.285105\n",
       "2020-01-01 00:06:00 -20.080282  6.063629\n",
       "2020-01-01 00:09:00  14.619133  5.186871\n",
       "2020-01-01 00:12:00 -11.214508  5.367948\n",
       "2020-01-01 00:15:00 -10.279648  4.663849"
      ]
     },
     "execution_count": 47,
     "metadata": {},
     "output_type": "execute_result"
    }
   ],
   "source": [
    "r.agg({'A': np.sum,'B': lambda x: max(x)-min(x)})"
   ]
  },
  {
   "cell_type": "markdown",
   "metadata": {},
   "source": [
    "### 3. 采样组的迭代\n",
    "#### 采样组的迭代和groupby迭代完全类似，对于每一个组都可以分别做相应操作"
   ]
  },
  {
   "cell_type": "code",
   "execution_count": 49,
   "metadata": {},
   "outputs": [
    {
     "name": "stdout",
     "output_type": "stream",
     "text": [
      "Group:  2020-01-01 00:00:00\n",
      "---------------------------\n",
      "2020-01-01 00:00:00    0\n",
      "2020-01-01 00:30:00    1\n",
      "2020-01-01 00:31:00    2\n",
      "dtype: int64\n",
      "\n",
      "Group:  2020-01-01 01:00:00\n",
      "---------------------------\n",
      "2020-01-01 01:00:00    3\n",
      "dtype: int64\n",
      "\n",
      "Group:  2020-01-01 02:00:00\n",
      "---------------------------\n",
      "Series([], dtype: int64)\n",
      "\n",
      "Group:  2020-01-01 03:00:00\n",
      "---------------------------\n",
      "2020-01-01 03:00:00    4\n",
      "2020-01-01 03:05:00    5\n",
      "dtype: int64\n",
      "\n"
     ]
    }
   ],
   "source": [
    "small = pd.Series(range(6),index=pd.to_datetime(['2020-01-01 00:00:00', '2020-01-01 00:30:00'\n",
    "                                                 , '2020-01-01 00:31:00','2020-01-01 01:00:00'\n",
    "                                                 ,'2020-01-01 03:00:00','2020-01-01 03:05:00']))\n",
    "resampled = small.resample('H')\n",
    "for name, group in resampled:\n",
    "    print(\"Group: \", name)\n",
    "    print(\"-\" * 27)\n",
    "    print(group, end=\"\\n\\n\")"
   ]
  },
  {
   "cell_type": "markdown",
   "metadata": {},
   "source": [
    "## 四、窗口函数"
   ]
  },
  {
   "cell_type": "markdown",
   "metadata": {},
   "source": [
    "#### 下面主要介绍pandas中两类主要的窗口(window)函数:rolling/expanding"
   ]
  },
  {
   "cell_type": "code",
   "execution_count": 50,
   "metadata": {},
   "outputs": [
    {
     "data": {
      "text/plain": [
       "2020-01-01    0.696212\n",
       "2020-01-02   -0.960595\n",
       "2020-01-03   -0.109992\n",
       "2020-01-04   -0.771961\n",
       "2020-01-05   -0.898523\n",
       "Freq: D, dtype: float64"
      ]
     },
     "execution_count": 50,
     "metadata": {},
     "output_type": "execute_result"
    }
   ],
   "source": [
    "s = pd.Series(np.random.randn(1000),index=pd.date_range('1/1/2020', periods=1000))\n",
    "s.head()"
   ]
  },
  {
   "cell_type": "markdown",
   "metadata": {},
   "source": [
    "### 1. Rolling"
   ]
  },
  {
   "cell_type": "markdown",
   "metadata": {},
   "source": [
    "#### a）常用聚合"
   ]
  },
  {
   "cell_type": "markdown",
   "metadata": {},
   "source": [
    "#### 所谓rolling方法，就是规定一个窗口，它和groupby对象一样，本身不会进行操作，需要配合聚合函数才能计算结果"
   ]
  },
  {
   "cell_type": "code",
   "execution_count": 52,
   "metadata": {},
   "outputs": [
    {
     "data": {
      "text/plain": [
       "Rolling [window=50,center=False,axis=0]"
      ]
     },
     "execution_count": 52,
     "metadata": {},
     "output_type": "execute_result"
    }
   ],
   "source": [
    "s.rolling(window=50)"
   ]
  },
  {
   "cell_type": "code",
   "execution_count": 53,
   "metadata": {},
   "outputs": [
    {
     "data": {
      "text/plain": [
       "2020-01-01         NaN\n",
       "2020-01-02         NaN\n",
       "2020-01-03         NaN\n",
       "2020-01-04         NaN\n",
       "2020-01-05         NaN\n",
       "                ...   \n",
       "2022-09-22    0.033686\n",
       "2022-09-23    0.081512\n",
       "2022-09-24    0.078890\n",
       "2022-09-25    0.045592\n",
       "2022-09-26    0.006374\n",
       "Freq: D, Length: 1000, dtype: float64"
      ]
     },
     "execution_count": 53,
     "metadata": {},
     "output_type": "execute_result"
    }
   ],
   "source": [
    "s.rolling(window=50).mean()"
   ]
  },
  {
   "cell_type": "markdown",
   "metadata": {},
   "source": [
    "#### min_periods参数是指需要的非缺失数据点数量阀值"
   ]
  },
  {
   "cell_type": "code",
   "execution_count": 54,
   "metadata": {},
   "outputs": [
    {
     "data": {
      "text/plain": [
       "2020-01-01         NaN\n",
       "2020-01-02         NaN\n",
       "2020-01-03   -0.124792\n",
       "2020-01-04   -0.286584\n",
       "2020-01-05   -0.408972\n",
       "Freq: D, dtype: float64"
      ]
     },
     "execution_count": 54,
     "metadata": {},
     "output_type": "execute_result"
    }
   ],
   "source": [
    "s.rolling(window=50,min_periods=3).mean().head()"
   ]
  },
  {
   "cell_type": "markdown",
   "metadata": {},
   "source": [
    "#### count/sum/mean/median/min/max/std/var/skew/kurt/quantile/cov/corr都是常用的聚合函数"
   ]
  },
  {
   "cell_type": "markdown",
   "metadata": {},
   "source": [
    "#### b）rolling的apply聚合"
   ]
  },
  {
   "cell_type": "markdown",
   "metadata": {},
   "source": [
    "#### 使用apply聚合时，只需记住传入的是window大小的Series，输出的必须是标量即可，比如如下计算变异系数"
   ]
  },
  {
   "cell_type": "code",
   "execution_count": 55,
   "metadata": {},
   "outputs": [
    {
     "data": {
      "text/plain": [
       "2020-01-01         NaN\n",
       "2020-01-02         NaN\n",
       "2020-01-03   -6.639086\n",
       "2020-01-04   -2.616610\n",
       "2020-01-05   -1.723154\n",
       "Freq: D, dtype: float64"
      ]
     },
     "execution_count": 55,
     "metadata": {},
     "output_type": "execute_result"
    }
   ],
   "source": [
    "s.rolling(window=50,min_periods=3).apply(lambda x:x.std()/x.mean()).head()"
   ]
  },
  {
   "cell_type": "markdown",
   "metadata": {},
   "source": [
    "#### c）基于时间的rolling"
   ]
  },
  {
   "cell_type": "code",
   "execution_count": 57,
   "metadata": {},
   "outputs": [
    {
     "data": {
      "text/plain": [
       "2020-01-01    0.696212\n",
       "2020-01-02   -0.132191\n",
       "2020-01-03   -0.124792\n",
       "2020-01-04   -0.286584\n",
       "2020-01-05   -0.408972\n",
       "Freq: D, dtype: float64"
      ]
     },
     "execution_count": 57,
     "metadata": {},
     "output_type": "execute_result"
    }
   ],
   "source": [
    "s.rolling('15D').mean().head()"
   ]
  },
  {
   "cell_type": "markdown",
   "metadata": {},
   "source": [
    "#### 可选closed='right'（默认）\\'left'\\'both'\\'neither'参数，决定端点的包含情况"
   ]
  },
  {
   "cell_type": "code",
   "execution_count": 58,
   "metadata": {},
   "outputs": [
    {
     "data": {
      "text/plain": [
       "2020-01-01    0.696212\n",
       "2020-01-02   -0.264383\n",
       "2020-01-03   -0.374375\n",
       "2020-01-04   -1.146336\n",
       "2020-01-05   -2.044859\n",
       "Freq: D, dtype: float64"
      ]
     },
     "execution_count": 58,
     "metadata": {},
     "output_type": "execute_result"
    }
   ],
   "source": [
    "s.rolling('15D', closed='right').sum().head()"
   ]
  },
  {
   "cell_type": "markdown",
   "metadata": {},
   "source": [
    "### 2. Expanding"
   ]
  },
  {
   "cell_type": "markdown",
   "metadata": {},
   "source": [
    "#### a）expanding函数"
   ]
  },
  {
   "cell_type": "markdown",
   "metadata": {},
   "source": [
    "#### 普通的expanding函数等价与rolling(window=len(s),min_periods=1)，是对序列的累计计算"
   ]
  },
  {
   "cell_type": "code",
   "execution_count": 60,
   "metadata": {},
   "outputs": [
    {
     "data": {
      "text/plain": [
       "2020-01-01    0.696212\n",
       "2020-01-02   -0.264383\n",
       "2020-01-03   -0.374375\n",
       "2020-01-04   -1.146336\n",
       "2020-01-05   -2.044859\n",
       "Freq: D, dtype: float64"
      ]
     },
     "execution_count": 60,
     "metadata": {},
     "output_type": "execute_result"
    }
   ],
   "source": [
    "s.rolling(window=len(s),min_periods=1).sum().head()"
   ]
  },
  {
   "cell_type": "code",
   "execution_count": 61,
   "metadata": {},
   "outputs": [
    {
     "data": {
      "text/plain": [
       "2020-01-01    0.696212\n",
       "2020-01-02   -0.264383\n",
       "2020-01-03   -0.374375\n",
       "2020-01-04   -1.146336\n",
       "2020-01-05   -2.044859\n",
       "Freq: D, dtype: float64"
      ]
     },
     "execution_count": 61,
     "metadata": {},
     "output_type": "execute_result"
    }
   ],
   "source": [
    "s.expanding().sum().head()"
   ]
  },
  {
   "cell_type": "code",
   "execution_count": 62,
   "metadata": {},
   "outputs": [
    {
     "data": {
      "text/plain": [
       "2020-01-01    0.696212\n",
       "2020-01-02   -0.264383\n",
       "2020-01-03   -0.374375\n",
       "2020-01-04   -1.146336\n",
       "2020-01-05   -2.044859\n",
       "Freq: D, dtype: float64"
      ]
     },
     "execution_count": 62,
     "metadata": {},
     "output_type": "execute_result"
    }
   ],
   "source": [
    "# apply方法也是同样可用的\n",
    "s.expanding().apply(lambda x:sum(x)).head()"
   ]
  },
  {
   "cell_type": "markdown",
   "metadata": {},
   "source": [
    "#### b）几个特别的Expanding类型函数\n",
    "#### cumsum/cumprod/cummax/cummin都是特殊expanding累计计算方法"
   ]
  },
  {
   "cell_type": "code",
   "execution_count": 63,
   "metadata": {},
   "outputs": [
    {
     "data": {
      "text/plain": [
       "2020-01-01    0.696212\n",
       "2020-01-02   -0.264383\n",
       "2020-01-03   -0.374375\n",
       "2020-01-04   -1.146336\n",
       "2020-01-05   -2.044859\n",
       "Freq: D, dtype: float64"
      ]
     },
     "execution_count": 63,
     "metadata": {},
     "output_type": "execute_result"
    }
   ],
   "source": [
    "s.cumsum().head()"
   ]
  },
  {
   "cell_type": "markdown",
   "metadata": {},
   "source": [
    "#### shift/diff/pct_change都是涉及到了元素关系\n",
    "#### shift是指序列索引不变，但值向后移动\n",
    "#### diff是指前后元素的差，period参数表示间隔，默认为1，并且可以为负\n",
    "#### pct_change是值前后元素的变化百分比，period参数与diff类似"
   ]
  },
  {
   "cell_type": "code",
   "execution_count": 64,
   "metadata": {},
   "outputs": [
    {
     "data": {
      "text/plain": [
       "2020-01-01         NaN\n",
       "2020-01-02         NaN\n",
       "2020-01-03    0.696212\n",
       "2020-01-04   -0.960595\n",
       "2020-01-05   -0.109992\n",
       "Freq: D, dtype: float64"
      ]
     },
     "execution_count": 64,
     "metadata": {},
     "output_type": "execute_result"
    }
   ],
   "source": [
    "s.shift(2).head()"
   ]
  },
  {
   "cell_type": "code",
   "execution_count": 65,
   "metadata": {},
   "outputs": [
    {
     "data": {
      "text/plain": [
       "2020-01-01         NaN\n",
       "2020-01-02         NaN\n",
       "2020-01-03         NaN\n",
       "2020-01-04   -1.468173\n",
       "2020-01-05    0.062072\n",
       "Freq: D, dtype: float64"
      ]
     },
     "execution_count": 65,
     "metadata": {},
     "output_type": "execute_result"
    }
   ],
   "source": [
    "s.diff(3).head()"
   ]
  },
  {
   "cell_type": "code",
   "execution_count": 66,
   "metadata": {},
   "outputs": [
    {
     "data": {
      "text/plain": [
       "2020-01-01         NaN\n",
       "2020-01-02         NaN\n",
       "2020-01-03         NaN\n",
       "2020-01-04   -2.108802\n",
       "2020-01-05   -0.064618\n",
       "Freq: D, dtype: float64"
      ]
     },
     "execution_count": 66,
     "metadata": {},
     "output_type": "execute_result"
    }
   ],
   "source": [
    "s.pct_change(3).head()"
   ]
  },
  {
   "cell_type": "code",
   "execution_count": null,
   "metadata": {},
   "outputs": [],
   "source": []
  }
 ],
 "metadata": {
  "kernelspec": {
   "display_name": "Python 3",
   "language": "python",
   "name": "python3"
  },
  "language_info": {
   "codemirror_mode": {
    "name": "ipython",
    "version": 3
   },
   "file_extension": ".py",
   "mimetype": "text/x-python",
   "name": "python",
   "nbconvert_exporter": "python",
   "pygments_lexer": "ipython3",
   "version": "3.7.3"
  }
 },
 "nbformat": 4,
 "nbformat_minor": 2
}
